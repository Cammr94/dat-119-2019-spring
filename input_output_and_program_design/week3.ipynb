{
 "cells": [
  {
   "cell_type": "markdown",
   "metadata": {},
   "source": [
    "Program Design\n",
    "=============\n",
    "\n",
    "Designing your program is more important than coding it. Before you write a single line of code, you should know what your program is going to do. What are your requirements for the program? What are your **inputs**, your **outputs**, and the processes that need to happen in between? What steps will the program need to take?\n",
    "\n",
    "When you plan, you write down (I mean that: physically write it down!) the **algorithm** you want your program to follow. The book's definition of \"algorithm\" is fine, but this one is simpler and easier to remember: \"a step-by-step method of solving a problem.\"\n",
    "\n",
    "The book is really keen on flowcharts, and there are definitely people who use those to reason through programming-type problems. [Here is a nice example of a decision-making flowchart.](https://technologyrediscovery.net/coursesGen/grades/gradeCards_fa18.html#flow) - This one wasn't used to make a program, but you can see how it could have been.\n",
    "\n",
    "Let's try making a flow chart for [one of the code.org problems](https://studio.code.org/s/20-hour/stage/2/puzzle/16).\n",
    "* [Here is one answer for the flow chart](img/flow_chart_maze.jpg). (I left the arrows off the ends of the lines, sorry.)\n",
    "* [Here is one answer for the set of code blocks](img/code_blocks_maze.png).\n",
    "\n",
    "An alternative to flow charts is pseudocode, which the textbook gives you formal-looking language for, but honestly? It's just writing out the steps in your own language, before you try to code them into the computer. If you prefer to think with flow charts, that is excellent; if you prefer to write out your steps, that is also excellent. As long as you make a plan before you start coding, I'm happy."
   ]
  },
  {
   "cell_type": "markdown",
   "metadata": {},
   "source": [
    "Getting to know Python\n",
    "===================\n",
    "\n",
    "In this section:\n",
    "* comments\n",
    "* functions (print(), input()) - calling, arguments\n",
    "* types - int, float, string, and boolean\n",
    "* strings\n",
    "* variables - assignment, reassignment, rules for naming\n",
    "* key words in Python\n",
    "* math operations\n",
    "* escape characters\n",
    "\n",
    "Comments\n",
    "----------------"
   ]
  },
  {
   "cell_type": "code",
   "execution_count": 7,
   "metadata": {},
   "outputs": [
    {
     "name": "stdout",
     "output_type": "stream",
     "text": [
      "coffee\n"
     ]
    }
   ],
   "source": [
    "# this is a comment\n",
    "# comments have no impact on the running of your code\n",
    "# they have HUGE IMPACT on the readability of your code!\n",
    "\n",
    "# this next line declares and assigns a value to a variable:\n",
    "a = \"coffee\"\n",
    "\n",
    "# and this next line holds a function:\n",
    "print(a)"
   ]
  },
  {
   "cell_type": "markdown",
   "metadata": {},
   "source": [
    "Functions\n",
    "--------------\n",
    "Functions are chunks of code that can be run again and again.\n",
    "\n",
    "We'll start by using functions other people have written (\"built-in functions\"), like print() and input(), but we'll get to write our own functions, too, before long!\n",
    "\n",
    "In the statement above, _print_ is the name of the function, and _a_ is the argument we're passing into it. Print sends a string to \"standard out.\" In simple terms, this means it prints to the place where you are running Python:\n",
    "* If you run Python in Jupyter notebooks, the output shows up immediately below the code block. \n",
    "* In the command line, it shows up right there in your shell. \n",
    "* In an integrated development environment like Spyder, it shows up in your console area.\n",
    "\n",
    "Just like print() is a way to make output, input() is a way to get input from the user. Both are built-in functions."
   ]
  },
  {
   "cell_type": "code",
   "execution_count": null,
   "metadata": {},
   "outputs": [],
   "source": [
    "# let's get input and send it to output\n",
    "text = input(\"Tell me what you're thinking: \")\n",
    "print(text)"
   ]
  },
  {
   "cell_type": "markdown",
   "metadata": {},
   "source": [
    "The example above isn't an especially interesting program, admittedly. Most programs will _do something_ to the inputs before delivering outputs to the user."
   ]
  },
  {
   "cell_type": "markdown",
   "metadata": {},
   "source": [
    "Data types\n",
    "---------------"
   ]
  },
  {
   "cell_type": "code",
   "execution_count": 2,
   "metadata": {},
   "outputs": [
    {
     "name": "stdout",
     "output_type": "stream",
     "text": [
      "1\n",
      "1.5\n",
      "<class 'int'>\n",
      "<class 'float'>\n"
     ]
    }
   ],
   "source": [
    "# numbers\n",
    "\n",
    "print(1) # integers\n",
    "print(1.5) # floats\n",
    "print( type(1) )\n",
    "print( type(1.5) )"
   ]
  },
  {
   "cell_type": "code",
   "execution_count": 5,
   "metadata": {},
   "outputs": [
    {
     "name": "stdout",
     "output_type": "stream",
     "text": [
      "text\n",
      "text\n",
      "\n",
      "\n",
      "text\n",
      "\n",
      "\n",
      "\n",
      "<class 'str'>\n",
      "<class 'str'>\n"
     ]
    }
   ],
   "source": [
    "# strings\n",
    "\n",
    "print('text')\n",
    "print(\"text\")\n",
    "print(\"\"\"\n",
    "\n",
    "text\n",
    "\n",
    "\n",
    "\"\"\")\n",
    "print(type('text'))\n",
    "print(type(\"text\"))"
   ]
  },
  {
   "cell_type": "code",
   "execution_count": 4,
   "metadata": {},
   "outputs": [
    {
     "name": "stdout",
     "output_type": "stream",
     "text": [
      "True\n",
      "False\n",
      "<class 'bool'>\n"
     ]
    }
   ],
   "source": [
    "# booleans - this wasn't in chapter 2, but I want you to have a preview\n",
    "\n",
    "print(True)\n",
    "print(False)\n",
    "print(type(True))"
   ]
  },
  {
   "cell_type": "markdown",
   "metadata": {},
   "source": [
    "Variables and assignments\n",
    "--------------------------------------\n",
    "\n",
    "Think of variables like buckets that you can put things into. "
   ]
  },
  {
   "cell_type": "code",
   "execution_count": null,
   "metadata": {},
   "outputs": [],
   "source": [
    "# single assignment\n",
    "\n",
    "thing = 1\n",
    "\n",
    "# thing is my variable name, and 1 is the value.  \n",
    "# thing is now associated with the value of 1\n",
    "# when I print out 1 and thing, they would appear the same\n",
    "# the object type is also going to be the same, \n",
    "# because the variable inherits what the contents are\n",
    "\n",
    "print(1)\n",
    "print(thing)\n",
    "\n",
    "print( type(1) )\n",
    "print( type(thing) )\n",
    "\n",
    "# variables can be reassigned as needed\n",
    "thing = \"raven\"\n",
    "print(thing)"
   ]
  },
  {
   "cell_type": "code",
   "execution_count": null,
   "metadata": {},
   "outputs": [],
   "source": [
    "# multiple assignment\n",
    "\n",
    "# You won't use this too often, but you'll see it when we start\n",
    "# working with more complex data structures\n",
    "# copy this code into Spyder, and play around with it a bit to explore\n",
    "\n",
    "x = 'fizzy'\n",
    "y = 'pop'\n",
    "\n",
    "a, b = x, y\n",
    "\n",
    "print(x, y)\n",
    "print(a, b)"
   ]
  },
  {
   "cell_type": "markdown",
   "metadata": {},
   "source": [
    "### Legal variable names:\n",
    "* Begin with a letter or an underscore (no numbers, no other punctuation)\n",
    "* Contain letters, underscores, and numbers\n",
    "\n",
    "\n",
    "### Illegal variable names:\n",
    "* Begin with anything other than a letter or an underscore\n",
    "* Contain spaces or punctuation besides underscores\n",
    "* Are Python keywords\n",
    "\n",
    "### Let's test ourselves!\n",
    "\n",
    "Which of these are legal?\n",
    "* data\n",
    "* dat4\n",
    "* \\_number\n",
    "* 1thing\n",
    "* this_is_a_long_name\n",
    "* print\n",
    "* Data\n",
    "\n",
    "OK, and are _data_ and _Data_ the same?\n",
    "\n",
    "Operators\n",
    "--------------"
   ]
  },
  {
   "cell_type": "code",
   "execution_count": 8,
   "metadata": {},
   "outputs": [
    {
     "name": "stdout",
     "output_type": "stream",
     "text": [
      "2\n",
      "1\n",
      "1.0\n",
      "1\n",
      "2.5\n",
      "0\n"
     ]
    }
   ],
   "source": [
    "# operators\n",
    "\n",
    "print( 5 + 2 ) # addition\n",
    "print( 5 - 2 ) # subtraction\n",
    "print( 5 * 2 ) # multiplication\n",
    "print( 5 / 2 ) # division\n",
    "print( 5 // 2 ) # integer division\n",
    "print( 5 ** 2 ) # exponentiation (\"5 to the second power\")\n",
    "print( 5 % 2 ) # modulo - the remainder after integer division"
   ]
  },
  {
   "cell_type": "code",
   "execution_count": null,
   "metadata": {},
   "outputs": [],
   "source": []
  }
 ],
 "metadata": {
  "kernelspec": {
   "display_name": "Python 3",
   "language": "python",
   "name": "python3"
  },
  "language_info": {
   "codemirror_mode": {
    "name": "ipython",
    "version": 3
   },
   "file_extension": ".py",
   "mimetype": "text/x-python",
   "name": "python",
   "nbconvert_exporter": "python",
   "pygments_lexer": "ipython3",
   "version": "3.7.0"
  }
 },
 "nbformat": 4,
 "nbformat_minor": 2
}
