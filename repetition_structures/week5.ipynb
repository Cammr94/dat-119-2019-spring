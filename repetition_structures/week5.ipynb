{
 "cells": [
  {
   "cell_type": "markdown",
   "metadata": {},
   "source": [
    "# Loops\n",
    "\n",
    "## Concept\n",
    "\n",
    "Much of the action driven in Python is done so by loops.  These things tell the program to repeat stuff.  Having a computer repeat a calculation or just keep trying something through a series of values is the power of computing.  We're going to be focused on looping through a set of known values.\n",
    "\n",
    "You're going to use for loops in nearly every Python program that you write for this class. Sometimes these for loops will look really similar, but you'll be using them for very different purposes.  **This is one of the most challenging aspects of the first month of this class.**\n",
    "\n",
    "## Specific types of this loop\n",
    "\n",
    "While there is a single syntax rule for `for` loop, there are many types.  We're going to start off with the three core patterns.  We'll learn more patterns as we move forward, but all of those are tweaks or expansions off of one of these three core patterns.\n",
    "\n",
    "There are several kinds of loops:\n",
    "\n",
    "1. repeat a task some arbitrary number of times\n",
    "    * your input is the number of times\n",
    "2. unpack some sequence of content and loop over those elements one at a time\n",
    "    * your input is the sequence, python will unpack it for you\n",
    "3. loop over something for the purposes of looking up another thing\n",
    "    * this one is strange, where you provide the sequence of items that represent the lookup key for another item.  These keys may be just numbers counting up, or they may be other kinds of content in a sequence (such as letters or words).\n",
    "4. loop over something to determine its count or sum \n",
    "\n",
    "There three uses will have a very similar syntax and can be difficult to tell the difference between.  For the sake of names, let's call them:\n",
    "\n",
    "1. a range loop\n",
    "2. an unpacking loop\n",
    "3. a reference loop\n",
    "4. an accumulator loop\n",
    "\n",
    "We're going to explore and reinforce our understanding of data types and other stuff as we play with loops.\n",
    "\n",
    "Sometimes you'll need to mix and match these.  For example, the reference loop will often start off life as a range loop.\n",
    "\n",
    "## Core syntax reference \n",
    "\n",
    "What does this for loop look like?\n",
    "\n",
    "```\n",
    "for iterable_variable in sequence:\n",
    "    do this stuff\n",
    "\n",
    "```\n",
    "\n",
    "This will loop over the `sequence` you provide, unpacking each value into the `iterable_variable`.  This variable will hold an individual value, one at a time, for each loop through.  \n",
    "\n",
    "Let's give names to all of these things:\n",
    "\n",
    "* declared and opened with a `for` keyword\n",
    "* a sequence that is being iterated over\n",
    "* an iterable variable to hold the variable contents of the sequence during each loop\n",
    "* white space (the tab) that defines where the executable code lives\n",
    "* the code to be executed each loop\n",
    "\n",
    "Some important notes:  \n",
    "\n",
    "* the iterable variable name can be literally any valid variable name and does not need to be declared previously\n",
    "* the colon at the end of the `for` line block is required and indicates that the declaration line is done\n",
    "* the `in` keyword separates the iterable variable name from the sequence\n",
    "* this case has the sequence literal in the declaration line, but could also be a variable\n",
    "\n",
    "### What is a sequence?\n",
    "\n",
    "That's a good question with a weird answer.  Sequences are data types in Python that internally support sequencing.  That is, you can ask it \"what's next?\" and it can give you an answer.\n",
    "\n",
    "Some things aren't sequences.  Such as numbers (`int`s and `float`s).  You can try asking the number 1 \"what's next?\" but it doesn't know.  Are you counting by 1?  Are you counting by -1? Are you counting by .1?  The question is too ambiguous.  \n",
    "\n",
    "Some things are sequences.  Let's look at a word:  `\"hello\"`.  If I ask this word \"What's next?\" I'll be told the individual letters, getting one at a time during the loop.  The iterable variable will hold those values in succession.  \n",
    "\n",
    "### A note on the iterable variable\n",
    "\n",
    "You can give this variable any name you want (but following the standard variable name rules), and it doesn't need to exist before.  It will feel strange, that you are typing in this variable to be used that doesn't yet have a value.\n",
    "\n",
    "The for loop takes care of it for you.  It will make all the assignment statements for that sequence for you to that variable.\n",
    "\n",
    "But it will persist after the for loop has completed! \n",
    "\n",
    "More on this as we progress.\n",
    "\n",
    "## Setting up a for loop\n",
    "\n",
    "There are three steps for setting up a for loop.  We'll be going through all of these in much more detail as we work through examples. This section is just to set up your thought process.\n",
    "\n",
    "1.  Determine what kind of pattern you'll be executing.  \n",
    "    * This is a thinking stage, where you need to think through what kind of pattern will move your program forward.\n",
    "2.  Identify your sequence.\n",
    "    * Once you know the kind of pattern you want, this will help you determine the kind of sequence.  There are times when the sequence will be very clear to you, and others where you'll be crafting one (for example in a reference loop) to generate the values you need.\n",
    "3.  Give your iterable variable a good name.\n",
    "    * You can technically call it `kitten`, but that isn't helpful.  Think about what it is and try to name it, being sure that you are matching the plural correctly.  For example, if you are working over a sequence of numbers, you might want to call it `num`, or if it's a string you could call it `character`.  \n",
    "    * Be very careful not to repeat any of your previous variable names, as their previous values will be erased for the iterable variable's value.  You may end up blowing away your data and weird things happen.  \n",
    "    * This name must also be different from the sequence's variable name (if it has one), because it might word and end up with really strange results.\n",
    "\n",
    "# Worked examples"
   ]
  },
  {
   "cell_type": "markdown",
   "metadata": {},
   "source": [
    "# The unpacking loop\n",
    "\n",
    "Abstract:  You have a thing and want to loop through the contents.  This will give you access to the individual components, one at a time.  As you are going through those things, you want to count the position number of that thing.\n",
    "\n",
    "Concrete:  You are given a sentence and want to print out each character with the position numbers along with each character.\n",
    "\n",
    "Whoa that's a lot of crap in there.  As will be the case for all your homework problems.  So we need to practice picking out the individual elements.\n",
    "\n",
    "There are two steps here:\n",
    "\n",
    "1. loop through each character of the sentence and print it out\n",
    "2. calculate the position number for each character and also print that out\n",
    "\n",
    "Let's work with the first line of the Raven to start with.\n",
    "\n",
    "`Once upon a midnight dreary, while I pondered, weak and weary`\n",
    "\n",
    "We want to save this value to mess with, so let's put it in a variable. "
   ]
  },
  {
   "cell_type": "code",
   "execution_count": 1,
   "metadata": {},
   "outputs": [],
   "source": [
    "line = \"Once upon a midnight dreary, while I pondered, weak and weary\""
   ]
  },
  {
   "cell_type": "markdown",
   "metadata": {},
   "source": [
    "## Type 1:  The unpacking loop\n",
    "\n",
    "Now that we have the text stored in a variable, we can mess with it more now.\n",
    "\n",
    "Let's play with our for loops here.  The best way to learn about for loops is to play with them.  We're going to use a single word for space purposes."
   ]
  },
  {
   "cell_type": "code",
   "execution_count": 2,
   "metadata": {},
   "outputs": [
    {
     "name": "stdout",
     "output_type": "stream",
     "text": [
      "O\n",
      "n\n",
      "c\n",
      "e\n"
     ]
    }
   ],
   "source": [
    "for letter in \"Once\":\n",
    "    print(letter)"
   ]
  },
  {
   "cell_type": "markdown",
   "metadata": {},
   "source": [
    "This prints one letter at a time.\n",
    "\n",
    "A loop is only as useful as what you do with the contents.  What you choose to do is where creativity and cleverness comes into play.  There are often many ways to solve a problem, your responsibility is to test the accuracy and completeness of your solution."
   ]
  },
  {
   "cell_type": "markdown",
   "metadata": {},
   "source": [
    "# Type 2: the `range()` loop\n",
    "\n",
    "The `range()` function is often your key to cleverness.  When faced with a new problem, your first instinct should be:  \"how can I solve this problem with range?\"  Even if it doesn't seem to involve numbers.\n",
    "\n",
    "But what is range?  It's a function to easily make lists of numbers in a variety of ways.  Let's play with it for a bit.\n",
    "\n",
    "Other than print, this is our first real function.\n",
    "\n",
    "### Functions!\n",
    "\n",
    "These are little mini programs that you can call up.  You know you are looking at a function when you see a name followed by `()`.  You've seen this with `print()`.  The () are there for you to pass the function an input to process.  Then the function gives you back a result OR does something OR does something to something else.\n",
    "\n",
    "Fun fuction facts:\n",
    "\n",
    "* the () are always required, even if empty\n",
    "* the name of the function is the text before the ()\n",
    "* function names roughly have to abide by variable name rules\n",
    "* referring to a function without the () will work sometimes and give you really weird looking errors\n",
    "* you have to refer to documentation or your book for how the work\n",
    "* you can provide more than one input in the (), and separate these by commas\n",
    "\n",
    "Fun function vocabulary:\n",
    "\n",
    "* \"call\" means to use a function, like `print(\"hello\")` is calling a function\n",
    "* \"pass\" means you put a value in the (), like that \"hello\" you see there.  These can be literals or variable names.\n",
    "\n",
    "There's more, but that's it for now.\n",
    "\n",
    "### making `range()` work\n",
    "\n",
    "There are three ways to use range, and we're only going to focus on one.  In this form, you only pass one value to it when calling the function.  \n",
    "\n",
    "`range(number)` but you replace number with an integer number.\n",
    "\n",
    "You provide in integer number to `range` and it will produce a series of numbers.  In this form, it will start at 0 and go up to, but not inluding the number that you have just given it.\n",
    "\n",
    "There are two other ways to use range, but we're going to focus on this primary method first."
   ]
  },
  {
   "cell_type": "code",
   "execution_count": 4,
   "metadata": {},
   "outputs": [
    {
     "name": "stdout",
     "output_type": "stream",
     "text": [
      "range(0, 10)\n"
     ]
    }
   ],
   "source": [
    "print(range(10))"
   ]
  },
  {
   "cell_type": "markdown",
   "metadata": {},
   "source": [
    "`range`, that's not very helpful.  Sigh, yes, we need to de another step to see the magic of `range`."
   ]
  },
  {
   "cell_type": "code",
   "execution_count": 5,
   "metadata": {},
   "outputs": [
    {
     "name": "stdout",
     "output_type": "stream",
     "text": [
      "[0, 1, 2, 3, 4, 5, 6, 7, 8, 9]\n"
     ]
    }
   ],
   "source": [
    "print(list(range(10)))"
   ]
  },
  {
   "cell_type": "markdown",
   "metadata": {},
   "source": [
    "There is a technical reason why this is happening, but nothing worth getting into just yet. (The author of your textbook and I don't always agree about how best to present things and in what order. We _will_ learn about lists in some detail, just not yet.)  \n",
    "\n",
    "Just remember that you may need to recast the results of `range` into a list to see/print (with human eyes) the all the numbers that range is making.  Python will get all the numbers just fine when using this as part of your code.\n",
    "\n",
    "You'll also see that range starts at 0 and ends at `n - 1`, where `n` in this case is 10. This is both incredibly convenient sometimes and horribly annoying in others.  Just write this fact into your brain for a bit."
   ]
  },
  {
   "cell_type": "code",
   "execution_count": 7,
   "metadata": {},
   "outputs": [
    {
     "name": "stdout",
     "output_type": "stream",
     "text": [
      "0\n",
      "1\n",
      "2\n",
      "3\n",
      "4\n",
      "5\n",
      "6\n",
      "7\n",
      "8\n",
      "9\n"
     ]
    }
   ],
   "source": [
    "for whats_this_number in range(10):\n",
    "    print(whats_this_number)"
   ]
  },
  {
   "cell_type": "markdown",
   "metadata": {},
   "source": [
    "What this really works out to is:  this is an unpacking loop that will make a thing to unpack of arbirary length.  The number you give range will be how many times the loop executes (roughly).  What it unpacks happens to be numbers, but you can choose to ignore them if you wish.\n",
    "\n",
    "## So we've got two pieces of our puzzle here\n",
    "\n",
    "1. looping over our word and concatinating stuff\n",
    "2. a way to make numbers\n",
    "\n",
    "But neither of these is enough to solve the problem.  We need something that sits in the middle.  We know that a range loop will make the numbers that we need but not give us the letters, and looping through the letters will not give us the numbers.\n",
    "\n",
    "Putting there together is less obvious.  There are two methods that could work:\n",
    "\n",
    "1.  loop through the letters and (somehow) count how many times we've looped\n",
    "    * we don't know how to do this yet, but we will!\n",
    "2.  do a reference loop and use the numbers in our range loop to look up the letters in the string.\n",
    "    * this allows us to make a fake unpacking loop.  \n",
    "\n",
    "When data has an order you can usually look up items by position.  Those positions are generally integer values counting up, which is exactly the power we get with `range`."
   ]
  },
  {
   "cell_type": "markdown",
   "metadata": {},
   "source": [
    "# Type 3:  the reference loop\n",
    "\n",
    "Facts:\n",
    "\n",
    "* Strings are ordered sets of characters.  \n",
    "* Each character in a string has a position.\n",
    "* You can look up those characters with a position number.\n",
    "* Postion numbers can be generated with a range function call.\n",
    "\n",
    "So instead of looping over the word itself, we can loop over the results of range and look up the letter in the process.\n",
    "\n",
    "For this, we need to find a way to get a range function call with the right number of positions.  Certainly we could count the number of characters and directly code that into our range call.\n",
    "\n",
    "So this is going to introduce many players into our game.  We need to test out each moving piece as we go.  Here's our general steps.\n",
    "\n",
    "We want to use the numbers produced by range as position numbers for our string.  \n",
    "\n",
    "1. Check that we are producing the right numbers for use as position numbers.\n",
    "2. Check that the position numbers are yanking in what we expect from our string.\n",
    "3. Make the output pretty."
   ]
  },
  {
   "cell_type": "code",
   "execution_count": 8,
   "metadata": {},
   "outputs": [
    {
     "name": "stdout",
     "output_type": "stream",
     "text": [
      "[0, 1, 2, 3]\n"
     ]
    }
   ],
   "source": [
    "word = \"Once\"\n",
    "wordlength = 4 # counted via eyeballs\n",
    "\n",
    "print(list(range(wordlength)))"
   ]
  },
  {
   "cell_type": "markdown",
   "metadata": {},
   "source": [
    "But we'd have to do this for every word we want to run through the program, which woulde defeat the purpose of programming.  What we need is a way to detect the length of an arbitrory string.  \n",
    "\n",
    "# `len()` is an essential partner of `range()`\n",
    "\n",
    "Many types of objects have a length, and each object that works with it has its own definition of what 'length' means. When you pass `len()` a string it counts the number of characters in it."
   ]
  },
  {
   "cell_type": "code",
   "execution_count": 9,
   "metadata": {},
   "outputs": [
    {
     "name": "stdout",
     "output_type": "stream",
     "text": [
      "4\n",
      "4\n"
     ]
    }
   ],
   "source": [
    "print(len(word))\n",
    "print(wordlength)"
   ]
  },
  {
   "cell_type": "markdown",
   "metadata": {},
   "source": [
    "Now we can substitute this call to `len` in our previous expression."
   ]
  },
  {
   "cell_type": "code",
   "execution_count": 10,
   "metadata": {},
   "outputs": [
    {
     "name": "stdout",
     "output_type": "stream",
     "text": [
      "[0, 1, 2, 3]\n"
     ]
    }
   ],
   "source": [
    "print(list(range(len(word))))"
   ]
  },
  {
   "cell_type": "markdown",
   "metadata": {},
   "source": [
    "Whoo, that's getting long!  Luckily, the `range(len(word))` is the important piece.  The rest is just to get the results to print out for our human eyes to see.\n",
    "\n",
    "Let's start filling things in.  First step, get a for loop going over those results of `range`."
   ]
  },
  {
   "cell_type": "code",
   "execution_count": 11,
   "metadata": {},
   "outputs": [
    {
     "name": "stdout",
     "output_type": "stream",
     "text": [
      "0\n",
      "1\n",
      "2\n",
      "3\n"
     ]
    }
   ],
   "source": [
    "for number in range(len(word)):\n",
    "    print(number)"
   ]
  },
  {
   "cell_type": "markdown",
   "metadata": {},
   "source": [
    "As general practice (but not hard and fast rule), your first step to writing for loops should be to set up the declaration line and throw the iterable item into a print statement so that you know what you are looping over.  This will help reinforce what the data type is that you are supposed to be working with, and allows you to double check that you are actually iterating over what you expect.\n",
    "\n",
    "So now we have our for loop going over the results of range on the length of the words.  Now we need to remember what we were going to use this number for.\n",
    "\n",
    "We were going to use it to look up the letter in the word.\n",
    "\n",
    "# String slicing\n",
    "\n",
    "Slicing means that you are taking a chunk out of something. Many data types that include content with position values can be sliced.  The good thing is that they all share a pretty similar syntax, so you only have one thing to learn.  The bad thing is that this means that the code for these instances will all start looking the same, which is where descriptive variable names come in handy.  You may even want to put the (expected/presumed/hopeful) data type in the variable name.\n",
    "\n",
    "Anyhow, slicing notation revolves around (or inside...) the `[]` characters.  To get a single letter out of a string, you place the desired position value in the `[]` at the end of the string or the variable containing the string."
   ]
  },
  {
   "cell_type": "code",
   "execution_count": 12,
   "metadata": {},
   "outputs": [
    {
     "name": "stdout",
     "output_type": "stream",
     "text": [
      "e\n"
     ]
    }
   ],
   "source": [
    "print(\"hello\"[1])"
   ]
  },
  {
   "cell_type": "markdown",
   "metadata": {},
   "source": [
    "Nope, that's not an h.  Remember how `range` starts at 0?   Python is pretty consistent that when counting positions or dealing with a series of numbers, it starts from 0.  Meanwhile, when measuring things like length it starts from 1.  There are historical and technical reasons for this, entire injokes about it, and no shortage of tears shed over it.\n",
    "\n",
    "This is just one of those things that you need to memorize but will still mess up sometimes no matter how much experience you have.\n",
    "\n",
    "So let's place this in our for loop to just see what happens.\n",
    "\n",
    "# final form"
   ]
  },
  {
   "cell_type": "code",
   "execution_count": 14,
   "metadata": {},
   "outputs": [
    {
     "name": "stdout",
     "output_type": "stream",
     "text": [
      "O\n",
      "n\n",
      "c\n",
      "e\n"
     ]
    }
   ],
   "source": [
    "for number in range(len(word)):\n",
    "    print(word[number])"
   ]
  },
  {
   "cell_type": "markdown",
   "metadata": {},
   "source": [
    "All I've done here is add the string slicing lookup into my print statement.  I'm not looping over the word at all.  I'm just making the range based off the length of the loop and looking up the letter.\n",
    "\n",
    "You might be asking about the value of these extra steps rather than just looping over the string directly.  Certainly if my interest was only in the letters this did add unnecessary complication.  However, if you look more closely I have access to much more information in the process.  I not only have the letter, but I also have access to the position of that letter.\n",
    "\n",
    "Watch below as I change nothing about the for loop from above except add more information to the print statement."
   ]
  },
  {
   "cell_type": "code",
   "execution_count": 16,
   "metadata": {},
   "outputs": [
    {
     "name": "stdout",
     "output_type": "stream",
     "text": [
      "The character at position 0 is O\n",
      "The character at position 1 is n\n",
      "The character at position 2 is c\n",
      "The character at position 3 is e\n"
     ]
    }
   ],
   "source": [
    "for number in range(len(word)):\n",
    "    print(\"The character at position\", number, \"is\", word[number])"
   ]
  },
  {
   "cell_type": "markdown",
   "metadata": {},
   "source": [
    "One problem is:  the numbers start at 0 but we want them to start at 1.  Easily solved with some math.  We can operate on the iterable number without changing the value.  "
   ]
  },
  {
   "cell_type": "code",
   "execution_count": 17,
   "metadata": {},
   "outputs": [
    {
     "name": "stdout",
     "output_type": "stream",
     "text": [
      "The character at position 1 is O\n",
      "The character at position 2 is n\n",
      "The character at position 3 is c\n",
      "The character at position 4 is e\n"
     ]
    }
   ],
   "source": [
    "for number in range(len(word)):\n",
    "    print(\"The character at position\", number + 1, \"is\", word[number])"
   ]
  },
  {
   "cell_type": "markdown",
   "metadata": {},
   "source": [
    "# Type 4: the accumulator loop\n",
    "\n",
    "## accumulators vs. counters\n",
    "\n",
    "This type of loop really focuses on numbers: generating numbers, manipulating their contents, and converting them to suit your needs.  The only math you'll generally be doing is addition and division.    \n",
    "\n",
    "As you are thinking of accumulators and counters, keep them separate in your head.  They look really similar in the code, but their purpose and usage will be very different!  You can have multiple of both inside your program, but commonly you'll have an accumulator to collect up many values, and then a counter to keep track of how many things you have counted.  There is an argument to be made that counters are a special type of accumulator, but I prefer to think of them as siblings rather than parent/child.\n",
    "\n",
    "The first question that you need to ask is:  what am I summing here?  Are you counting a series of uniform values?  Or are you counting up a series of different values?  The variability of the values is a big distinction here.\n",
    "\n",
    "For example, we have a class of 24 students.  \n",
    "\n",
    "**We can count the number of students.**  Each person here counts as \"1\".  This is a uniform value across all entities.  This is the core of a counter pattern.  Inside the loop you'll see that the incrementing value is often hard coded. \n",
    "\n",
    "**We can sum up the total age.** Each person has some age, which may repeat but is variable across everyone in here.  This value must be accessed each time through, and that value is added up to create a final value representing the total number of years old all the students are in this room.  \n",
    "\n",
    "We can use them together.  If I know a total sum of a property for a set of entities, and the total number of entities, what does that sound like to you?\n",
    "\n",
    "This is how we calculate the mean or average value.  So if we've got a loop counting these two things together, we can calculate some summary statistics about it.  \n",
    "\n",
    "Can you think of some examples of things you might want to count up versus things you might want to sum up? \n",
    "\n",
    "Let's take a step back and look at some code for making these things happen.  \n",
    "\n",
    "\n",
    "# Minimal counter\n",
    "\n",
    "A minimal counter will be the easiest to see this mechanism in action.\n",
    "\n",
    "\n",
    "## Counting up by a set number\n",
    "\n",
    "For this task, we want to count how many times a loop executes.  This isn't a trick or anything fancy.  \n",
    "\n",
    "Remember our steps to a for loop?  We need:\n",
    "\n",
    "1. determine your pattern\n",
    "2. identify your sequence\n",
    "3. give your iterable a good name\n",
    "\n",
    "Answering questions 1 and 2 here often go in circles.  Pick a pattern, think about how it'll work with the sequences available to you, and either rethink or continue forward.  As you build up more experience, you'll know what you need faster and begin to have a set of patterns that you are the most comfortable with.  As you are getting started, take note of the patterns that make the most sense to you and latch onto those.\n",
    "\n",
    "Let's start with an range loop, because what we need is to make a for loop that can execute some number of times so that we can count how many times that is.  True, we can run a counter in every type of for loop out there, but let's go with a range loop to start with.\n",
    "\n",
    "### Review a base range loop\n",
    "\n",
    "``` python\n",
    "for number in range(5):\n",
    "    print(\"hello\")\n",
    "```\n",
    "\n",
    "This block of code will print \"hello\" five times.  \n",
    "\n",
    "We're going to start with this base, and change it so that we are counting how many times this runs.  We know it will be 5 times, but out end goal will be to have a variable holding this value.\n",
    "\n",
    "\n",
    "### There are 4 steps to a counter\n",
    "\n",
    "Here are the 4 steps:\n",
    "\n",
    "1. Establish you base variable at the initial state (usually 0)\n",
    "2. Start a for loop for whatever you're repeating\n",
    "3. Do your stuff, whatever you need to do in that loop\n",
    "4. Update your counter, usually by 1.  This is commonly the last thing in your loop.\n",
    "\n",
    "The reference pattern is:\n",
    "\n",
    "```python \n",
    "counter = 0 # 1: your counter variable at the initial state\n",
    "\n",
    "for something in sequence: # 2: loop over something!\n",
    "    do stuff # 3: do all the things\n",
    "    counter = 1 + counter # 4: update the counter, replace 1 and/or the operator with whatever you need\n",
    "```\n",
    " \n",
    "You are often having to do more than just update your counter variable, and many times you need that value in the process.  This means that you'll need to increment up your counter as the last thing you do in your loop. There will be exceptions to this, but they are rare.  More generally, all your incrementers should be at the end of your for loop, and the internal order doesn't always matter.\n",
    "\n",
    "This particular example is counting up by 1, but you can always change what that number is or what the operator is.  For example, if you were counting up by 10, you would have 10 in step 4.\n",
    "\n",
    "\n",
    "#### Worked example of a counter\n",
    "\n",
    "\n",
    "##### Step 1: have a base\n",
    "\n",
    "So let's start adapting things.  We need to start with a base.\n",
    "\n",
    "``` python\n",
    "count = 0\n",
    "```\n",
    "\n",
    "##### Step 2: have a for loop in there\n",
    "\n",
    "Now we're going to add in our for loop.\n",
    "\n",
    "``` python\n",
    "count = 0\n",
    "\n",
    "for number in range(5):\n",
    "    print(\"hello\")\n",
    "```\n",
    "You see that I haven't changed up the for loop's content, we'll get to that next.\n",
    "\n",
    "##### Step 3: do stuff to get the count that you need in that for loop\n",
    "\n",
    "Very often with counters you won't need to do anything here, because you're just brute force counting by a certain number each time.  But this is when you'd address any decision structures or data extraction methods to get out the value that you need to count by.\n",
    "\n",
    "``` python\n",
    "count = 0\n",
    "\n",
    "for number in range(5):\n",
    "    # you'd do stuff here\n",
    "    # or maybe you have more counters do do\n",
    "    # either way, all the fun stuff not counter related goes right after the for loop starts\n",
    "    print(\"hello\") # and likely print it out here instead of \"hello\"\n",
    "```\n",
    "\n",
    "##### Step 4:  increment up your counter\n",
    "\n",
    "Now that we've got all our pieces in order and we've done our business, we can finally update our counter.  This is the last step because this is ofter the last thing your for loop.  One of the most common problems that I see is when the increment is put at the beginning of the for loop or in the middle of the action, and everything gets weird.  Almost always it will need to be the last line of code within your for loop.\n",
    "\n",
    "``` python\n",
    "count = 0\n",
    "\n",
    "for number in range(5):\n",
    "    count = count + 1 #here's the update\n",
    "    \n",
    "print(base)\n",
    "```\n",
    "\n",
    "Note our use of `base = base + 1` here.  We are updating a variable that already exists (this is why we define a base), and since we want to reuse it and have the value retained even when the for loop resets, we need to a) keep that base on the outside of our for loop and b) reuse the variable name.  So that repetition of the base variable name is purposeful and absolutely necessary.  \n",
    "\n",
    "What would happen if we didn't include the `print()` there at the end?  (nothing would have printed out)\n",
    "\n",
    "What would happen if the `print(base)` was indented inside the for loop? (we would see a print out for it each time).  Would we see count with the base value of 0?  Would we see count with the final value of 5?  Why?\n",
    "\n",
    "\n",
    "# Minimal Accumulator:  summing variable/non-uniform values\n",
    "\n",
    "\n",
    "Think like snow measurement, we say that there is an \"accumulation of 3 inches\".  You don't know how big the individual time moments are (like if it snowed heavily at once or if it was a slow trickle), but you do know the end total of how much snow ended up there.  You can also measure the amount incrementally over time, but once something is added in you can't know how big that individual piece is.\n",
    "\n",
    "An accumulator is highlighted by the incremental value going in being variable in size.  Think of this like a running total where you are only keeping track of the current value, and once an individual value is added in, that value is lost.  \n",
    "\n",
    "## There are 5 steps to an accumulator\n",
    "\n",
    "Here are the 5 steps (they should look very familiar to you with the counter steps)\n",
    "\n",
    "1. Establish you accumulator base at the initial state (usually 0)\n",
    "2. Start a for loop for whatever you're repeating\n",
    "3. Do your stuff, whatever you need to do in that loop\n",
    "4. Determine your value to accumulate\n",
    "5. Update your base variable by whatever your incremental value is.  This is commonly the last thing in your loop.\n",
    "\n",
    "The reference pattern is:\n",
    "\n",
    "```python \n",
    "total_something = 0 # 1: your counter variable at the initial state\n",
    "\n",
    "for something in sequence: # 2: loop over something!\n",
    "    do stuff # 3: do all the things\n",
    "    value_you_want = ?? # 4: determine the value you want to add to your accumulator\n",
    "    total_something = value + total_something # 5: update the counter, replace 1 and/or the operator with whatever you need\n",
    "```\n",
    "\n",
    "## Worked example\n",
    "\n",
    "Let's sum up all the numbers produced in a range loop.  Yes, this is as silly example, but it keeps the clutter away so you can see the inner workings better.\n",
    "\n",
    "Reminder, here's our range loop printing out 10 numbers, starting at 0.  We will be adding an accumulator pattern within and around this for loop.\n",
    "\n",
    "``` python\n",
    "for num in range(10):\n",
    "    print(num)\n",
    "```\n",
    "\n",
    "\n",
    "### 1: add the base\n",
    "\n",
    "We want to start at 0 because we're counting like humans.\n",
    "\n",
    "``` python\n",
    "\n",
    "total_sum = 0  # 1\n",
    "\n",
    "for num in range(10):\n",
    "    print(num)\n",
    "```\n",
    "\n",
    "### 2 & 3: looping and doing things\n",
    "\n",
    "There's not much to do because we already have our loop set up for us.  Likewise, there's no transformation or lookup to do there.  \n",
    "\n",
    "``` python\n",
    "\n",
    "total_sum = 0 \n",
    "\n",
    "for num in range(10): # 2\n",
    "    # 3: you'd do stuff here to transform or extract the number that you need\n",
    "    print(num) \n",
    "```\n",
    "\n",
    "### 4: add the incrementing value\n",
    "\n",
    "In this case, we're counting how many times the loop has executed.  \n",
    "\n",
    "So how much do we want to count by each time?  1.\n",
    "\n",
    "And where do we need to put the incrementing expression?  When in doubt, put it at the end and see what happens. In our case, we aren't doing much of anything, so we can put it anywhere.\n",
    "\n",
    "Here's what the final form should look like."
   ]
  },
  {
   "cell_type": "code",
   "execution_count": 18,
   "metadata": {},
   "outputs": [
    {
     "name": "stdout",
     "output_type": "stream",
     "text": [
      "45\n"
     ]
    }
   ],
   "source": [
    "total_sum = 0 # 1\n",
    "\n",
    "for num in range(10):\n",
    "    # we can get rid of the print now\n",
    "    total_sum = num + total_sum # 5\n",
    "    \n",
    "print(total_sum)"
   ]
  },
  {
   "cell_type": "markdown",
   "metadata": {},
   "source": [
    "# You can 'accumulate' more than numbers!!!!!\n",
    "\n",
    "Anything that can 'hold' stuff can be accumulated into.  You'll be using this pattern a lot moving forward.\n",
    "\n",
    "## Collecting letters\n",
    "\n",
    "When a data type has the ability to be 'added' to, either through the `+` operator or a method (lists do this, but we aren't there yet), you can use this same kind of pattern.  Instead of setting the counter to `0`, you have an 'empty' whatever-it-is.  Since we've been playing with strings lately, let's use that as an example.\n",
    "\n",
    "```python \n",
    "new_string = \"\" # 1 your empty string\n",
    "\n",
    "for letter in \"the quick brown fox jumped over the lazy dog\": # 2 loop over something!\n",
    "    do stuff # 3 maybe you're filtering for letter characters\n",
    "    new_string = new_string + letter # 4 update the new string to include this letter\n",
    "```\n",
    "\n",
    "Other than not having numbers, you'll notice just one difference in this example:  I'm using `new_string = new_string + letter` whereas the counter had `thingtoadd = 1 + thingtoadd`.  So whereas numercial addition can have any order (Commutative Property) there will be times that order does matter.  In this case, it does with string concatenation.\n",
    "\n",
    "`\"fizzy\" + \"pop\"` makes `\"fizzypop\"` and `\"pop\" + \"fizzy\"` makes `\"popfizzy\"`.  So the order that you decide to write the operation will determine what you get and should be part of your design process.  Most of the time you'll want to add new things on to the end, so:  `current + new`\n",
    "\n",
    "## Generalizing the accumulator pattern beyond numbers\n",
    "\n",
    "You should still keep your idea of the counter as something separate for now.  But we can come up with a more general pattern to serve you beyond basic operator (`+`) accumulation.\n",
    "\n",
    "This pattern will be used all over as we move forward in class.  What will change is what the collection item is (a string, a sum, a file, list, etc), what you're adding to the thing, and what you need to do to create the thing you want to add to your collection.  Here's a more abstract formula:\n",
    "\n",
    "\n",
    "```python \n",
    "collection_thing = ?? # declare an empty version of your collection thing \n",
    "# thing may also be opening an empty file to write out to\n",
    "\n",
    "for thing in sequence: # loop over something!\n",
    "    do stuff # transform, filter, etc\n",
    "    ??? # put your new data in your collection thing\n",
    "```\n",
    "\n",
    "# common pitfalls\n",
    "\n",
    "We're going to switch gears a bit and go over some of the common errors that you'll see related to these patterns.\n",
    "\n",
    "## the accumulator value isn't adding or only has the last value\n",
    "\n",
    "This happens when your counter variable is placed inside your for loop and ends up starting over each run. It will still perform the operations each time, but your counter will be reset each time through.  "
   ]
  },
  {
   "cell_type": "code",
   "execution_count": 19,
   "metadata": {},
   "outputs": [
    {
     "name": "stdout",
     "output_type": "stream",
     "text": [
      "the number is: 0\n",
      "the number is: 1\n",
      "the number is: 2\n",
      "the number is: 3\n",
      "the number is: 4\n",
      "the final result is: 4\n"
     ]
    }
   ],
   "source": [
    "for i in range(5):\n",
    "    print(\"the number is:\", i)\n",
    "    counter = 0\n",
    "    counter = counter + i\n",
    "    \n",
    "print(\"the final result is:\", counter)"
   ]
  },
  {
   "cell_type": "markdown",
   "metadata": {},
   "source": [
    "All the pieces you need are in there, just in the wrong place.  I've fixed the code below by only moving the location of the `counter = 0` line."
   ]
  },
  {
   "cell_type": "code",
   "execution_count": 20,
   "metadata": {},
   "outputs": [
    {
     "name": "stdout",
     "output_type": "stream",
     "text": [
      "the number is: 0\n",
      "the number is: 1\n",
      "the number is: 2\n",
      "the number is: 3\n",
      "the number is: 4\n",
      "the final result is: 10\n"
     ]
    }
   ],
   "source": [
    "counter = 0 # look at me at the top now\n",
    "\n",
    "for i in range(5):\n",
    "    print(\"the number is:\", i)\n",
    "    counter = counter + i\n",
    "    \n",
    "print(\"the final result is:\", counter)"
   ]
  },
  {
   "cell_type": "markdown",
   "metadata": {},
   "source": [
    "## your output looks like a pyramid or shows a correct but incremental version of the final output\n",
    "\n",
    "This happens when your final result statement is inside your for loop, causing it to be executed each loop.  The output this produces a characteristic pyramid effect."
   ]
  },
  {
   "cell_type": "code",
   "execution_count": 21,
   "metadata": {},
   "outputs": [
    {
     "name": "stdout",
     "output_type": "stream",
     "text": [
      "the final string is: Ϩ\n",
      "the final string is: Ϩϩ\n",
      "the final string is: ϨϩϪ\n",
      "the final string is: ϨϩϪϫ\n",
      "the final string is: ϨϩϪϫϬ\n",
      "the final string is: ϨϩϪϫϬϭ\n",
      "the final string is: ϨϩϪϫϬϭϮ\n",
      "the final string is: ϨϩϪϫϬϭϮϯ\n",
      "the final string is: ϨϩϪϫϬϭϮϯϰ\n",
      "the final string is: ϨϩϪϫϬϭϮϯϰϱ\n"
     ]
    }
   ],
   "source": [
    "s = \"\"\n",
    "\n",
    "for i in range(1000, 1010):\n",
    "    s = s + chr(i) # don't worry about what's going on in here yet\n",
    "    print(\"the final string is:\", s)"
   ]
  },
  {
   "cell_type": "markdown",
   "metadata": {},
   "source": [
    "See how that result is growing?  The print statement is inside the for loop.  So we're seeing the correct result, but we're watching it grow.  This sort of thing may also cause odd errors when you are dealing with creating other kinds of data structures, where you are adding your incremental results to the full data stucture rather than collecting up a sub result and then adding that.  You'll likely still see a pyramid effect in there somewhere.  The solution is to move the print statement out of the for loop."
   ]
  },
  {
   "cell_type": "code",
   "execution_count": 22,
   "metadata": {},
   "outputs": [
    {
     "name": "stdout",
     "output_type": "stream",
     "text": [
      "the final string is: ϨϩϪϫϬϭϮϯϰϱ\n"
     ]
    }
   ],
   "source": [
    "s = \"\"\n",
    "\n",
    "for i in range(1000, 1010):\n",
    "    s = s + chr(i)\n",
    "\n",
    "print(\"the final string is:\", s) # did you see me move to the left?"
   ]
  },
  {
   "cell_type": "code",
   "execution_count": null,
   "metadata": {},
   "outputs": [],
   "source": []
  }
 ],
 "metadata": {
  "kernelspec": {
   "display_name": "Python 3",
   "language": "python",
   "name": "python3"
  },
  "language_info": {
   "codemirror_mode": {
    "name": "ipython",
    "version": 3
   },
   "file_extension": ".py",
   "mimetype": "text/x-python",
   "name": "python",
   "nbconvert_exporter": "python",
   "pygments_lexer": "ipython3",
   "version": "3.6.6"
  }
 },
 "nbformat": 4,
 "nbformat_minor": 2
}
